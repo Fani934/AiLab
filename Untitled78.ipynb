{
 "cells": [
  {
   "cell_type": "code",
   "execution_count": 3,
   "id": "4cc4422d-792a-48c5-b621-1503306934a2",
   "metadata": {},
   "outputs": [
    {
     "name": "stdout",
     "output_type": "stream",
     "text": [
      "Model Accuracy: 100.00%\n",
      "Predicted Gender: male\n"
     ]
    },
    {
     "name": "stderr",
     "output_type": "stream",
     "text": [
      "C:\\Users\\SED\\anaconda3\\Lib\\site-packages\\sklearn\\base.py:439: UserWarning: X does not have valid feature names, but DecisionTreeClassifier was fitted with feature names\n",
      "  warnings.warn(\n"
     ]
    }
   ],
   "source": [
    "import pandas as pd\n",
    "from sklearn.tree import DecisionTreeClassifier\n",
    "from sklearn.metrics import accuracy_score\n",
    "\n",
    "# Step 1: Define the data\n",
    "data = {\n",
    "    'Gender': ['male', 'male', 'male', 'male', 'female', 'female', 'female', 'female'],\n",
    "    'Height': [6.00, 5.92, 5.58, 5.92, 5.00, 5.50, 5.42, 5.75],\n",
    "    'Weight': [180, 190, 170, 165, 100, 150, 130, 150],\n",
    "    'Foot_Size': [12, 11, 12, 10, 6, 8, 7, 9]\n",
    "}\n",
    "\n",
    "# Step 2: Create a DataFrame\n",
    "df = pd.DataFrame(data)\n",
    "\n",
    "# Step 3: Encode the labels (Gender) as numbers\n",
    "df['Gender'] = df['Gender'].map({'male': 0, 'female': 1})\n",
    "\n",
    "# Step 4: Define features (X) and label (y)\n",
    "X = df[['Height', 'Weight', 'Foot_Size']]\n",
    "y = df['Gender']\n",
    "\n",
    "# Step 5: Train the Decision Tree Classifier\n",
    "clf = DecisionTreeClassifier()\n",
    "clf.fit(X, y)\n",
    "\n",
    "# Step 6: Calculate and print the accuracy on the training data\n",
    "y_pred = clf.predict(X)\n",
    "accuracy = accuracy_score(y, y_pred)\n",
    "print(f\"Model Accuracy: {accuracy * 100:.2f}%\")\n",
    "\n",
    "# Step 7: Predict gender for a new entry\n",
    "def predict_gender(height, weight, foot_size):\n",
    "    prediction = clf.predict([[height, weight, foot_size]])\n",
    "    return 'male' if prediction[0] == 0 else 'female'\n",
    "\n",
    "# Example: Predict gender for a new entry\n",
    "new_height = 5.75  # example\n",
    "new_weight = 160   # example\n",
    "new_foot_size = 10 # example\n",
    "predicted_gender = predict_gender(new_height, new_weight, new_foot_size)\n",
    "\n",
    "print(f\"Predicted Gender: {predicted_gender}\")\n"
   ]
  },
  {
   "cell_type": "code",
   "execution_count": null,
   "id": "111a39ed-8c6b-49d5-a3c0-caead40ac782",
   "metadata": {},
   "outputs": [],
   "source": []
  }
 ],
 "metadata": {
  "kernelspec": {
   "display_name": "Python 3 (ipykernel)",
   "language": "python",
   "name": "python3"
  },
  "language_info": {
   "codemirror_mode": {
    "name": "ipython",
    "version": 3
   },
   "file_extension": ".py",
   "mimetype": "text/x-python",
   "name": "python",
   "nbconvert_exporter": "python",
   "pygments_lexer": "ipython3",
   "version": "3.11.7"
  }
 },
 "nbformat": 4,
 "nbformat_minor": 5
}
