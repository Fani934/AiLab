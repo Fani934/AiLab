{
 "cells": [
  {
   "cell_type": "code",
   "execution_count": 1,
   "id": "4cc4422d-792a-48c5-b621-1503306934a2",
   "metadata": {},
   "outputs": [
    {
     "name": "stdout",
     "output_type": "stream",
     "text": [
      "Predicted Gender for new entry [[7.0, 190.0, 15.0]]: male\n",
      "\n",
      "Confusion Matrix:\n",
      "[[5 0]\n",
      " [0 4]]\n",
      "Accuracy: 100.00%\n"
     ]
    }
   ],
   "source": [
    "import numpy as np\n",
    "from sklearn.tree import DecisionTreeClassifier\n",
    "from sklearn.metrics import confusion_matrix, accuracy_score\n",
    "\n",
    "# Manually input the data using numpy arrays\n",
    "# Feature array: [[Height, Weight, Foot_Size], ...]\n",
    "features = np.array([\n",
    "    [6.00, 180, 12],\n",
    "    [5.92, 190, 11],\n",
    "    [5.58, 170, 12],\n",
    "    [5.92, 165, 10],\n",
    "    [5.00, 100, 6],\n",
    "    [5.50, 150, 8],\n",
    "    [5.42, 130, 7],\n",
    "    [5.75, 150, 9]\n",
    "])\n",
    "\n",
    "# Label array: 0 for male, 1 for female\n",
    "labels = np.array([0, 0, 0, 0, 1, 1, 1, 1])\n",
    "\n",
    "# Initialize and train the Decision Tree Classifier\n",
    "classifier = DecisionTreeClassifier()\n",
    "classifier.fit(features, labels)\n",
    "\n",
    "# New entry to predict and add to the dataset\n",
    "new_entry = np.array([[7.00, 190, 15]])\n",
    "\n",
    "# Predict the class of the new entry\n",
    "predicted_label = classifier.predict(new_entry)[0]\n",
    "predicted_gender = 'male' if predicted_label == 0 else 'female'\n",
    "print(f\"Predicted Gender for new entry {new_entry.tolist()}: {predicted_gender}\")\n",
    "\n",
    "# Add the new entry with its predicted label to the dataset\n",
    "features = np.vstack([features, new_entry])  # Add new entry to features\n",
    "labels = np.append(labels, predicted_label)   # Add predicted label to labels\n",
    "\n",
    "# Retrain the classifier on the updated dataset\n",
    "classifier.fit(features, labels)\n",
    "\n",
    "# Calculate the confusion matrix and accuracy score on the updated dataset\n",
    "y_pred = classifier.predict(features)\n",
    "conf_matrix = confusion_matrix(labels, y_pred)\n",
    "accuracy = accuracy_score(labels, y_pred)\n",
    "\n",
    "# Output results\n",
    "print(\"\\nConfusion Matrix:\")\n",
    "print(conf_matrix)\n",
    "print(f\"Accuracy: {accuracy * 100:.2f}%\")\n"
   ]
  },
  {
   "cell_type": "code",
   "execution_count": null,
   "id": "111a39ed-8c6b-49d5-a3c0-caead40ac782",
   "metadata": {},
   "outputs": [],
   "source": []
  },
  {
   "cell_type": "code",
   "execution_count": null,
   "id": "3aa6062d-edf5-4bc9-ae4a-981d33ed959f",
   "metadata": {},
   "outputs": [],
   "source": []
  }
 ],
 "metadata": {
  "kernelspec": {
   "display_name": "Python 3 (ipykernel)",
   "language": "python",
   "name": "python3"
  },
  "language_info": {
   "codemirror_mode": {
    "name": "ipython",
    "version": 3
   },
   "file_extension": ".py",
   "mimetype": "text/x-python",
   "name": "python",
   "nbconvert_exporter": "python",
   "pygments_lexer": "ipython3",
   "version": "3.11.7"
  }
 },
 "nbformat": 4,
 "nbformat_minor": 5
}
