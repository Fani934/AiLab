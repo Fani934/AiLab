{
 "cells": [
  {
   "cell_type": "code",
   "execution_count": 4,
   "id": "4cc4422d-792a-48c5-b621-1503306934a2",
   "metadata": {},
   "outputs": [
    {
     "name": "stdout",
     "output_type": "stream",
     "text": [
      "Confusion Matrix:\n",
      "[[4 0]\n",
      " [0 4]]\n",
      "Accuracy: 100.00%\n",
      "Predicted Gender for new entry [[6.0, 180, 12]]: male\n"
     ]
    },
    {
     "name": "stderr",
     "output_type": "stream",
     "text": [
      "C:\\Users\\SED\\anaconda3\\Lib\\site-packages\\sklearn\\base.py:439: UserWarning: X does not have valid feature names, but DecisionTreeClassifier was fitted with feature names\n",
      "  warnings.warn(\n"
     ]
    }
   ],
   "source": [
    "import pandas as pd\n",
    "import numpy as np\n",
    "from sklearn.tree import DecisionTreeClassifier\n",
    "from sklearn.metrics import confusion_matrix, accuracy_score\n",
    "\n",
    "# Load the dataset from the Excel file\n",
    "file_path = \"dataset.xlsx\" \n",
    "df = pd.read_excel(file_path)\n",
    "\n",
    "# Generate the list of features and labels\n",
    "# Assuming 'Gender' is the label and 'Height', 'Weight', 'Foot Size' are the features\n",
    "features = df[['Height', 'Weight', 'Foot Size']]\n",
    "labels = df['Gender'].map({'male': 0, 'female': 1})  # Encoding labels\n",
    "\n",
    "# Initialize and train the Decision Tree Classifier\n",
    "classifier = DecisionTreeClassifier()\n",
    "classifier = classifier.fit(features, labels)\n",
    "\n",
    "# New entry to predict\n",
    "new_entry = [[6.00, 180, 12]]\n",
    "prediction = classifier.predict(new_entry)\n",
    "\n",
    "# Calculate confusion matrix and accuracy score on the training set\n",
    "y_pred = classifier.predict(features)\n",
    "conf_matrix = confusion_matrix(labels, y_pred)\n",
    "accuracy = accuracy_score(labels, y_pred)\n",
    "\n",
    "prediction_result = 'male' if prediction[0] == 0 else 'female'\n",
    "print(\"Confusion Matrix:\")\n",
    "print(conf_matrix)\n",
    "print(f\"Accuracy: {accuracy * 100:.2f}%\")\n",
    "print(f\"Predicted Gender for new entry {new_entry}: {prediction_result}\")\n"
   ]
  },
  {
   "cell_type": "code",
   "execution_count": null,
   "id": "111a39ed-8c6b-49d5-a3c0-caead40ac782",
   "metadata": {},
   "outputs": [],
   "source": []
  }
 ],
 "metadata": {
  "kernelspec": {
   "display_name": "Python 3 (ipykernel)",
   "language": "python",
   "name": "python3"
  },
  "language_info": {
   "codemirror_mode": {
    "name": "ipython",
    "version": 3
   },
   "file_extension": ".py",
   "mimetype": "text/x-python",
   "name": "python",
   "nbconvert_exporter": "python",
   "pygments_lexer": "ipython3",
   "version": "3.11.7"
  }
 },
 "nbformat": 4,
 "nbformat_minor": 5
}
