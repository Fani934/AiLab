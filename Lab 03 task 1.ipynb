{
 "cells": [
  {
   "cell_type": "code",
   "execution_count": 5,
   "id": "448d7384-2cb9-44f2-b065-f147ec8b60b6",
   "metadata": {},
   "outputs": [
    {
     "name": "stdout",
     "output_type": "stream",
     "text": [
      "Prediction: ['yes' 'yes' 'yes']\n",
      "Confusion Matrix:\n",
      "[[0 2]\n",
      " [0 1]]\n",
      "Accuracy: 0.3333333333333333\n"
     ]
    }
   ],
   "source": [
    "from sklearn import preprocessing\n",
    "from sklearn.neighbors import KNeighborsClassifier\n",
    "from sklearn.metrics import confusion_matrix, accuracy_score\n",
    "from sklearn.model_selection import train_test_split\n",
    "\n",
    "weather = ['sunny', 'sunny', 'overcast', 'rainy', 'rainy', 'overcast', 'sunny']\n",
    "feature1 = ['hot', 'hot', 'hot', 'mild', 'cool', 'cool', 'mild']\n",
    "feature2 = ['high', 'high', 'high', 'normal', 'normal', 'high', 'normal']\n",
    "play = ['no', 'no', 'yes', 'yes', 'yes', 'yes', 'no']\n",
    "\n",
    "le_weather = preprocessing.LabelEncoder()\n",
    "le_feature1 = preprocessing.LabelEncoder()\n",
    "le_feature2 = preprocessing.LabelEncoder()\n",
    "le_play = preprocessing.LabelEncoder()\n",
    "\n",
    "weather_encoded = le_weather.fit_transform(weather)\n",
    "feature1_encoded = le_feature1.fit_transform(feature1)\n",
    "feature2_encoded = le_feature2.fit_transform(feature2)\n",
    "play_encoded = le_play.fit_transform(play)\n",
    "\n",
    "features = list(zip(feature1_encoded, feature2_encoded))\n",
    "\n",
    "features_train, features_test, label_train, label_test = train_test_split(features, play_encoded, test_size=0.3, random_state=42)\n",
    "\n",
    "model = KNeighborsClassifier(n_neighbors=3, metric='euclidean')\n",
    "model.fit(features_train, label_train)\n",
    "\n",
    "predicted = model.predict(features_test)\n",
    "\n",
    "predicted_labels = le_play.inverse_transform(predicted)\n",
    "\n",
    "print(\"Prediction:\", predicted_labels)\n",
    "conf_mat = confusion_matrix(label_test, predicted)\n",
    "\n",
    "print(\"Confusion Matrix:\")\n",
    "print(conf_mat)\n",
    "\n",
    "accuracy = accuracy_score(label_test, predicted)\n",
    "print(\"Accuracy:\", accuracy)"
   ]
  },
  {
   "cell_type": "code",
   "execution_count": 6,
   "id": "115a353b-08ea-41d4-b097-3be09a6d98ce",
   "metadata": {},
   "outputs": [
    {
     "name": "stdout",
     "output_type": "stream",
     "text": [
      "Distances and Classifications:\n",
      "Distance: 3.00, Classification: Good\n",
      "Distance: 3.61, Classification: Good\n",
      "Distance: 4.00, Classification: Bad\n",
      "Distance: 5.00, Classification: Bad\n",
      "\n",
      "Nearest Neighbors (K=3): [(3.0, 'Good'), (3.605551275463989, 'Good'), (4.0, 'Bad')]\n",
      "Predicted Classification for the query instance (3, 7): Good\n"
     ]
    }
   ],
   "source": [
    "import numpy as np\n",
    "from collections import Counter\n",
    "\n",
    "# Training samples (X1, X2, Classification)\n",
    "training_samples = [\n",
    "    (7, 7, 'Bad'),\n",
    "    (7, 4, 'Bad'),\n",
    "    (3, 4, 'Good'),\n",
    "    (1, 4, 'Good')\n",
    "]\n",
    "\n",
    "# Query instance\n",
    "query_instance = (3, 7)\n",
    "\n",
    "# Function to calculate Euclidean distance\n",
    "def euclidean_distance(p, q):\n",
    "    return np.sqrt((q[0] - p[0])**2 + (q[1] - p[1])**2)\n",
    "\n",
    "# Calculate distances\n",
    "distances = []\n",
    "for sample in training_samples:\n",
    "    distance = euclidean_distance(query_instance, sample[:2])  # Get only (X1, X2)\n",
    "    distances.append((distance, sample[2]))  # (distance, classification)\n",
    "\n",
    "# Sort distances\n",
    "distances.sort(key=lambda x: x[0])  # Sort by distance\n",
    "\n",
    "# Select K nearest neighbors\n",
    "K = 3\n",
    "nearest_neighbors = distances[:K]\n",
    "\n",
    "# Gather the classifications of the nearest neighbors\n",
    "classes = [neighbor[1] for neighbor in nearest_neighbors]\n",
    "\n",
    "# Majority voting\n",
    "predicted_class = Counter(classes).most_common(1)[0][0]\n",
    "\n",
    "# Output results\n",
    "print(\"Distances and Classifications:\")\n",
    "for distance, classification in distances:\n",
    "    print(f\"Distance: {distance:.2f}, Classification: {classification}\")\n",
    "\n",
    "print(f\"\\nNearest Neighbors (K={K}): {nearest_neighbors}\")\n",
    "print(f\"Predicted Classification for the query instance {query_instance}: {predicted_class}\")"
   ]
  },
  {
   "cell_type": "code",
   "execution_count": null,
   "id": "ba61b249-168d-49ac-9783-0806548f8fa3",
   "metadata": {},
   "outputs": [],
   "source": []
  }
 ],
 "metadata": {
  "kernelspec": {
   "display_name": "Python 3 (ipykernel)",
   "language": "python",
   "name": "python3"
  },
  "language_info": {
   "codemirror_mode": {
    "name": "ipython",
    "version": 3
   },
   "file_extension": ".py",
   "mimetype": "text/x-python",
   "name": "python",
   "nbconvert_exporter": "python",
   "pygments_lexer": "ipython3",
   "version": "3.11.7"
  }
 },
 "nbformat": 4,
 "nbformat_minor": 5
}
