{
 "cells": [
  {
   "cell_type": "code",
   "execution_count": 7,
   "id": "4cc4422d-792a-48c5-b621-1503306934a2",
   "metadata": {},
   "outputs": [
    {
     "name": "stdout",
     "output_type": "stream",
     "text": [
      "Predicted Gender for new entry [[5.0, 160, 9]]: female\n",
      "\n",
      "Confusion Matrix:\n",
      "[[4 0]\n",
      " [0 5]]\n",
      "Accuracy: 100.00%\n"
     ]
    },
    {
     "name": "stderr",
     "output_type": "stream",
     "text": [
      "C:\\Users\\SED\\anaconda3\\Lib\\site-packages\\sklearn\\base.py:439: UserWarning: X does not have valid feature names, but DecisionTreeClassifier was fitted with feature names\n",
      "  warnings.warn(\n"
     ]
    }
   ],
   "source": [
    "import pandas as pd\n",
    "import numpy as np\n",
    "from sklearn.tree import DecisionTreeClassifier\n",
    "from sklearn.metrics import confusion_matrix, accuracy_score\n",
    "\n",
    "# Load the dataset from the Excel file\n",
    "file_path = \"dataset.xlsx\"  # Replace with the actual path to your Excel file\n",
    "df = pd.read_excel(file_path)\n",
    "\n",
    "# Prepare the features and labels\n",
    "# Assuming 'Gender' is the label and 'Height', 'Weight', 'Foot Size' are the features\n",
    "features = df[['Height', 'Weight', 'Foot Size']]\n",
    "labels = df['Gender'].map({'male': 0, 'female': 1})  # Encoding labels\n",
    "\n",
    "# Initialize and train the Decision Tree classifier on the original dataset\n",
    "classifier = DecisionTreeClassifier()\n",
    "classifier = classifier.fit(features, labels)\n",
    "\n",
    "# New entry to predict and add to the dataset\n",
    "new_entry = [[5.00, 160, 9]]\n",
    "\n",
    "# Step 4: Predict the class for the new entry\n",
    "predicted_label = classifier.predict(new_entry)[0]\n",
    "predicted_gender = 'male' if predicted_label == 0 else 'female'\n",
    "print(f\"Predicted Gender for new entry {new_entry}: {predicted_gender}\")\n",
    "\n",
    "# Step 5: Add the new entry with the predicted label to the dataset\n",
    "new_entry_df = pd.DataFrame(new_entry, columns=['Height', 'Weight', 'Foot Size'])\n",
    "features = pd.concat([features, new_entry_df], ignore_index=True)\n",
    "labels = pd.concat([labels, pd.Series([predicted_label])], ignore_index=True)\n",
    "\n",
    "# Step 6: Retrain the classifier on the updated dataset\n",
    "classifier = classifier.fit(features, labels)\n",
    "\n",
    "# Step 7: Evaluate the updated model using confusion matrix and accuracy\n",
    "y_pred = classifier.predict(features)\n",
    "conf_matrix = confusion_matrix(labels, y_pred)\n",
    "accuracy = accuracy_score(labels, y_pred)\n",
    "\n",
    "# Output results\n",
    "print(\"\\nConfusion Matrix:\")\n",
    "print(conf_matrix)\n",
    "print(f\"Accuracy: {accuracy * 100:.2f}%\")\n"
   ]
  },
  {
   "cell_type": "code",
   "execution_count": null,
   "id": "111a39ed-8c6b-49d5-a3c0-caead40ac782",
   "metadata": {},
   "outputs": [],
   "source": []
  }
 ],
 "metadata": {
  "kernelspec": {
   "display_name": "Python 3 (ipykernel)",
   "language": "python",
   "name": "python3"
  },
  "language_info": {
   "codemirror_mode": {
    "name": "ipython",
    "version": 3
   },
   "file_extension": ".py",
   "mimetype": "text/x-python",
   "name": "python",
   "nbconvert_exporter": "python",
   "pygments_lexer": "ipython3",
   "version": "3.11.7"
  }
 },
 "nbformat": 4,
 "nbformat_minor": 5
}
