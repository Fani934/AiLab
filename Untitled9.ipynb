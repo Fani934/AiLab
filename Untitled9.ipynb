{
 "cells": [
  {
   "cell_type": "code",
   "execution_count": 1,
   "id": "3d630045-fdc7-41b9-a4ee-ddd6366fe4bb",
   "metadata": {},
   "outputs": [
    {
     "name": "stdout",
     "output_type": "stream",
     "text": [
      "Mutahir\n",
      "Abdullah\n",
      "Bilal\n",
      "Sadeem\n",
      "Jhanzaib\n"
     ]
    }
   ],
   "source": [
    "names = [\"Mutahir\", \"Abdullah\", \"Bilal\", \"Sadeem\", \"Jhanzaib\"]\n",
    "for name in names:\n",
    "    print(name)\n",
    "\n"
   ]
  },
  {
   "cell_type": "code",
   "execution_count": 3,
   "id": "47d044bc-b4d0-4b5c-a666-2347a4b543d9",
   "metadata": {},
   "outputs": [
    {
     "name": "stdout",
     "output_type": "stream",
     "text": [
      "Dear Bilal, you are cordially invited to dinner at my place. I would be honored to have your company!\n",
      "Dear Abdullah, you are cordially invited to dinner at my place. I would be honored to have your company!\n",
      "Dear Mutahir, you are cordially invited to dinner at my place. I would be honored to have your company!\n"
     ]
    }
   ],
   "source": [
    "dinner_guests = [\"Bilal\", \"Abdullah\", \"Mutahir\"]\n",
    "for guest in dinner_guests:\n",
    "    print(f\"Dear {guest}, you are cordially invited to dinner at my place. I would be honored to have your company!\")\n"
   ]
  },
  {
   "cell_type": "code",
   "execution_count": 5,
   "id": "4a6db8b6-c45c-47c4-9f17-acfc57504e1f",
   "metadata": {},
   "outputs": [
    {
     "name": "stdout",
     "output_type": "stream",
     "text": [
      "Dear Bilal, you are cordially invited to dinner at my place. I would be honored to have your company!\n",
      "Dear Abdullah, you are cordially invited to dinner at my place. I would be honored to have your company!\n",
      "Dear Mutahir, you are cordially invited to dinner at my place. I would be honored to have your company!\n",
      "\n",
      "Updated Invitations:\n",
      "Dear Jhanzaib, you are cordially invited to dinner at my place. I would be honored to have your company!\n",
      "Dear Abdullah, you are cordially invited to dinner at my place. I would be honored to have your company!\n",
      "Dear Mutahir, you are cordially invited to dinner at my place. I would be honored to have your company!\n"
     ]
    }
   ],
   "source": [
    "# List of people to invite to dinner\n",
    "dinner_guests = [\"Bilal\", \"Abdullah\", \"Mutahir\"]\n",
    "\n",
    "# Initial invitations\n",
    "for guest in dinner_guests:\n",
    "    print(f\"Dear {guest}, you are cordially invited to dinner at my place. I would be honored to have your company!\")\n",
    "\n",
    "# Update guest list: Replace a guest who can't make it\n",
    "dinner_guests[0] = \"Jhanzaib\"\n",
    "\n",
    "# Print a second set of invitation messages\n",
    "print(\"\\nUpdated Invitations:\")\n",
    "for guest in dinner_guests:\n",
    "    print(f\"Dear {guest}, you are cordially invited to dinner at my place. I would be honored to have your company!\")\n"
   ]
  },
  {
   "cell_type": "code",
   "execution_count": 7,
   "id": "7dfadaae-48f8-4671-9927-c32a7e76a316",
   "metadata": {},
   "outputs": [
    {
     "name": "stdout",
     "output_type": "stream",
     "text": [
      "Employee Name: Mutahir Imam, Salary: 50000\n",
      "Employee Name: M.Kashif, Salary: 60000\n",
      "Total number of employees: 2\n"
     ]
    }
   ],
   "source": [
    "class Employee:\n",
    "    \"\"\"Common base class for all employees.\"\"\"\n",
    "    emp_count = 0\n",
    "\n",
    "    def __init__(self, emp_name, salary):\n",
    "        self.emp_name = emp_name\n",
    "        self.salary = salary\n",
    "        Employee.emp_count += 1\n",
    "\n",
    "    @staticmethod\n",
    "    def display_count():\n",
    "        print(f\"Total number of employees: {Employee.emp_count}\")\n",
    "\n",
    "    def display_employee(self):\n",
    "        print(f\"Employee Name: {self.emp_name}, Salary: {self.salary}\")\n",
    "\n",
    "# Example usage\n",
    "# Create employee instances\n",
    "emp1 = Employee(\"Mutahir Imam\", 50000)\n",
    "emp2 = Employee(\"M.Kashif\", 60000)\n",
    "\n",
    "# Display employee details\n",
    "emp1.display_employee()\n",
    "emp2.display_employee()\n",
    "\n",
    "# Display total employee count\n",
    "Employee.display_count()\n"
   ]
  },
  {
   "cell_type": "code",
   "execution_count": 9,
   "id": "93453def-740f-447e-88f3-5c7198e9713e",
   "metadata": {},
   "outputs": [
    {
     "name": "stdout",
     "output_type": "stream",
     "text": [
      "Items in LIFO order:\n",
      "3\n",
      "2\n",
      "1\n"
     ]
    }
   ],
   "source": [
    "import queue\n",
    "# Create a LifoQueue\n",
    "lifo_queue = queue.LifoQueue()\n",
    "# Adding elements to the LIFO queue\n",
    "lifo_queue.put(1)\n",
    "lifo_queue.put(2)\n",
    "lifo_queue.put(3)\n",
    "\n",
    "# Accessing elements from the LIFO queue\n",
    "print(\"Items in LIFO order:\")\n",
    "\n",
    "while not lifo_queue.empty():\n",
    "    item = lifo_queue.get()\n",
    "    print(item)\n",
    "\n"
   ]
  },
  {
   "cell_type": "code",
   "execution_count": null,
   "id": "627a5d5f-a19a-449d-93bb-b422377103ea",
   "metadata": {},
   "outputs": [],
   "source": []
  }
 ],
 "metadata": {
  "kernelspec": {
   "display_name": "Python 3 (ipykernel)",
   "language": "python",
   "name": "python3"
  },
  "language_info": {
   "codemirror_mode": {
    "name": "ipython",
    "version": 3
   },
   "file_extension": ".py",
   "mimetype": "text/x-python",
   "name": "python",
   "nbconvert_exporter": "python",
   "pygments_lexer": "ipython3",
   "version": "3.12.7"
  }
 },
 "nbformat": 4,
 "nbformat_minor": 5
}
